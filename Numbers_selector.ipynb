{
  "nbformat": 4,
  "nbformat_minor": 0,
  "metadata": {
    "colab": {
      "name": "Numbers_selector.ipynb",
      "provenance": [],
      "collapsed_sections": []
    },
    "kernelspec": {
      "name": "python3",
      "display_name": "Python 3"
    }
  },
  "cells": [
    {
      "cell_type": "code",
      "metadata": {
        "id": "XK2dbvcM9sC6"
      },
      "source": [
        "import re, os, arcpy\n",
        "\n",
        "file1 = open(\"plik1.txt\", \"r\")\n",
        "file2 = open(\"tmp.txt\", \"w+\")\n",
        "\n",
        "layer = \"Transformator\"\n",
        "layer2 = \"Trans2\"\n",
        "\n",
        "command = 'OBJECTID = IN('\n",
        "file2.write(command)\n",
        "\n",
        "for line in file1:\n",
        "    if 'Transformator' in line :\n",
        "        x = re.findall(r'\\d+', line)\n",
        "        y = list(map(int, x))\n",
        "        del y[0]\n",
        "        z = str(y)\n",
        "        z = z.replace (\"[\", \"\")\n",
        "        z = z.replace (\"]\", \",\")\n",
        "        file2.writelines(z)\n",
        "    \n",
        "file1 = open(\"tmp.txt\", \"r\")\n",
        "file2 = open(\"sql.txt\", \"w+\")\n",
        "\n",
        "for line in file1:\n",
        "    if line[-1] == ',':\n",
        "        m = line[:-1] + line[-1].replace(\",\", ')')\n",
        "        file2.writelines(m)\n",
        "\n",
        "file1.close()\n",
        "file2.close()\n",
        "\n",
        "where_clause = open(\"sql.txt\", \"r+\")\n",
        "\n",
        "arcpy.env.overwriteOutput = True\n",
        "\n",
        "try:\n",
        "    arcpy.SelectLayerByAttribute_management(layer, where_clause)\n",
        "    arcpy.CopyFeatures_management(layer, layer2)\n",
        "except:\n",
        "   print(arcpy.GetMessages())"
      ],
      "execution_count": null,
      "outputs": []
    }
  ]
}