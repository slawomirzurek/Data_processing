{
  "nbformat": 4,
  "nbformat_minor": 0,
  "metadata": {
    "colab": {
      "name": "Coordinates_of_centroids.ipynb",
      "provenance": [],
      "collapsed_sections": [],
      "authorship_tag": "ABX9TyMMpE88ZXobMSPG9ORYS13t"
    },
    "kernelspec": {
      "name": "python3",
      "display_name": "Python 3"
    },
    "language_info": {
      "name": "python"
    }
  },
  "cells": [
    {
      "cell_type": "code",
      "execution_count": null,
      "metadata": {
        "id": "h6VZUcRfzfyK"
      },
      "outputs": [],
      "source": [
        "# -*- coding: utf-8 -*-\n",
        "# Author: Sławomir Żurek\n",
        "\n",
        "# Import arcpy module\n",
        "import arcpy, os, shutil\n",
        "\n",
        "\n",
        "p = os.path.join(os.path.join(os.environ['USERPROFILE']), 'Desktop\\Centroidy')\n",
        "s = os.path.join(os.path.join(os.environ['USERPROFILE']), 'Desktop')\n",
        "\n",
        "\n",
        "# Local variables:\n",
        "Granica = \"5. Topografia\\\\Granica\"\n",
        "GEODB_GRANICA = \"Połączenia do baz danych\\\\GEODB.Granice\\\\GEODB.GRANICA\"\n",
        "Granica_kopia = p + \"\\\\Granica_kopia.shp\"\n",
        "Granica_kopia2 = Granica_kopia\n",
        "Wynik = s + \"\\\\Centroidy_wynik.xls\"\n",
        "where_clause = 'RB_FSC = 52'\n",
        "\n",
        "\n",
        "if os.path.exists(Wynik):\n",
        "    os.remove(Wynik)\n",
        "    \n",
        "elif os.path.exists(p):\n",
        "    shutil.rmtree(p, ignore_errors = True)\n",
        "\n",
        "os.mkdir(p)\n",
        "\n",
        "\n",
        "# Wybranie RD z tabeli Granica\n",
        "arcpy.Select_analysis(GEODB_GRANICA, Granica_kopia, where_clause)\n",
        "\n",
        "\n",
        "# Dodanie atrybutu geometrii\n",
        "arcpy.AddGeometryAttributes_management(Granica_kopia, \"CENTROID\", \"\", \"\", \"GEOGCS['GCS_WGS_1984',DATUM['D_WGS_1984',SPHEROID['WGS_1984',6378137.0,298.257223563]],PRIMEM['Greenwich',0.0],UNIT['Degree',0.0174532925199433]]\")\n",
        "\n",
        "\n",
        "# Eksport tabeli do Excela\n",
        "arcpy.TableToExcel_conversion(Granica_kopia2, Wynik, \"NAME\", \"CODE\")\n",
        "\n",
        "\n",
        "# Usunięcie folderu Centroidy\n",
        "shutil.rmtree(p, ignore_errors = True)\n",
        "\n",
        "\n",
        "print(\"Skrypt wykonał się poprawnie.\")\n"
      ]
    }
  ]
}